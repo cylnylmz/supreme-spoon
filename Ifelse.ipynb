{
  "nbformat": 4,
  "nbformat_minor": 0,
  "metadata": {
    "colab": {
      "provenance": [],
      "authorship_tag": "ABX9TyO7r3xhUYHJkGgbESsKPDi3",
      "include_colab_link": true
    },
    "kernelspec": {
      "name": "python3",
      "display_name": "Python 3"
    },
    "language_info": {
      "name": "python"
    }
  },
  "cells": [
    {
      "cell_type": "markdown",
      "metadata": {
        "id": "view-in-github",
        "colab_type": "text"
      },
      "source": [
        "<a href=\"https://colab.research.google.com/github/cylnylmz/supreme-spoon/blob/main/Ifelse.ipynb\" target=\"_parent\"><img src=\"https://colab.research.google.com/assets/colab-badge.svg\" alt=\"Open In Colab\"/></a>"
      ]
    },
    {
      "cell_type": "code",
      "execution_count": null,
      "metadata": {
        "colab": {
          "base_uri": "https://localhost:8080/"
        },
        "id": "JPluNW8H9jb7",
        "outputId": "450bd6dd-8f73-4036-85ac-d51d679cb495"
      },
      "outputs": [
        {
          "output_type": "stream",
          "name": "stdout",
          "text": [
            "Hello\n",
            "My result is True!\n"
          ]
        }
      ],
      "source": [
        "print(\"Hello\")\n",
        "Counter = 10\n",
        "old_result = True\n",
        "result = False\n",
        "if old_result and Counter == 10:\n",
        "    result = True\n",
        "    print(f\"My result is {result}!\")"
      ]
    },
    {
      "cell_type": "code",
      "source": [],
      "metadata": {
        "id": "DcPKFX169p6J"
      },
      "execution_count": null,
      "outputs": []
    }
  ]
}