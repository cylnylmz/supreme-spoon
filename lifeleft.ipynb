{
  "nbformat": 4,
  "nbformat_minor": 0,
  "metadata": {
    "colab": {
      "provenance": [],
      "authorship_tag": "ABX9TyOXSIP94s1P88PmlrOdxGyB",
      "include_colab_link": true
    },
    "kernelspec": {
      "name": "python3",
      "display_name": "Python 3"
    },
    "language_info": {
      "name": "python"
    }
  },
  "cells": [
    {
      "cell_type": "markdown",
      "metadata": {
        "id": "view-in-github",
        "colab_type": "text"
      },
      "source": [
        "<a href=\"https://colab.research.google.com/github/cylnylmz/supreme-spoon/blob/main/lifeleft.ipynb\" target=\"_parent\"><img src=\"https://colab.research.google.com/assets/colab-badge.svg\" alt=\"Open In Colab\"/></a>"
      ]
    },
    {
      "cell_type": "code",
      "execution_count": 13,
      "metadata": {
        "colab": {
          "base_uri": "https://localhost:8080/"
        },
        "id": "1i6IspVIBGHP",
        "outputId": "98562c19-3b7f-47dd-80fa-a178a4cbaa7a"
      },
      "outputs": [
        {
          "output_type": "stream",
          "name": "stdout",
          "text": [
            "Game Started, play careful!\n",
            "You've got 6 lifes left\n",
            "You've got 5 lifes left\n",
            "You've got 4 lifes left\n",
            "You've got 3 lifes left\n",
            "You've got 2 lifes left\n",
            "Careful! You've got 1 life left!\n",
            "You've turned right. Danger!\n",
            "Game Over!\n"
          ]
        }
      ],
      "source": [
        "i = 1\n",
        "life = 6\n",
        "turn_right = True\n",
        "\n",
        "while True:\n",
        "  if life > 4:\n",
        "    print(\"Game Started, play careful!\")\n",
        "    for i in range (5):\n",
        "      print(f\"You've got {life} lifes left\")\n",
        "      life -= 1\n",
        "  elif life == 1:\n",
        "    print(f\"Careful! You've got {life} life left!\")\n",
        "    if turn_right and life == 1:\n",
        "      print(\"You've turned right. Danger!\")\n",
        "      for life in range (1):\n",
        "          life -= 1\n",
        "  else:\n",
        "    print(\"Game Over!\")\n",
        "    break\n"
      ]
    }
  ]
}